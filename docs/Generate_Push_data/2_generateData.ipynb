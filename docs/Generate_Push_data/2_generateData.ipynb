{
 "cells": [
  {
   "cell_type": "markdown",
   "metadata": {},
   "source": [
    "# Read number files in dataset"
   ]
  },
  {
   "cell_type": "code",
   "execution_count": 13,
   "metadata": {},
   "outputs": [
    {
     "data": {
      "text/plain": [
       "{'normal': 2727,\n",
       " 'oa_doubtful': 1428,\n",
       " 'oa_mild': 1702,\n",
       " 'oa_moderate': 934,\n",
       " 'oa_severe': 338,\n",
       " 'osteopenia': 124,\n",
       " 'osteoporosis': 40}"
      ]
     },
     "execution_count": 13,
     "metadata": {},
     "output_type": "execute_result"
    }
   ],
   "source": [
    "from functions import count_images_in_subfolders\n",
    "folder_path = r'E:\\NCKH\\dataset\\train'\n",
    "df_train = count_images_in_subfolders(folder_path) # 19089 \n",
    "df_train"
   ]
  },
  {
   "cell_type": "code",
   "execution_count": 14,
   "metadata": {},
   "outputs": [
    {
     "data": {
      "text/plain": [
       "7293"
      ]
     },
     "execution_count": 14,
     "metadata": {},
     "output_type": "execute_result"
    }
   ],
   "source": [
    "sum(df_train.values())"
   ]
  },
  {
   "cell_type": "code",
   "execution_count": 16,
   "metadata": {},
   "outputs": [
    {
     "data": {
      "text/plain": [
       "{'normal': 748,\n",
       " 'oa_doubtful': 391,\n",
       " 'oa_mild': 493,\n",
       " 'oa_moderate': 267,\n",
       " 'oa_severe': 92,\n",
       " 'osteopenia': 30,\n",
       " 'osteoporosis': 9}"
      ]
     },
     "execution_count": 16,
     "metadata": {},
     "output_type": "execute_result"
    }
   ],
   "source": [
    "folder_path = r'E:\\NCKH\\dataset\\test'\n",
    "df_train = count_images_in_subfolders(folder_path) # 19089 \n",
    "df_train"
   ]
  },
  {
   "cell_type": "markdown",
   "metadata": {},
   "source": [
    "# Solve imbalance dataset\n",
    "## Oversampling, Data Augmentation và Resample with Different Ratios\n",
    "\n",
    "### Oversampling\n",
    "\n",
    "* **Mục tiêu:** Cân bằng lại tập dữ liệu bằng cách tăng số lượng mẫu trong lớp thiểu số.\n",
    "* **Phương pháp:**\n",
    "  * **Random oversampling:** Sao chép ngẫu nhiên các mẫu.\n",
    "  * **SMOTE:** Tạo các mẫu tổng hợp mới dựa trên các mẫu lân cận.\n",
    "* **Ưu điểm:** Giúp mô hình học tốt hơn các đặc trưng của lớp thiểu số.\n",
    "* **Nhược điểm:** Có thể dẫn đến overfitting.\n",
    "\n",
    "### Data Augmentation\n",
    "\n",
    "* **Mục tiêu:** Tăng số lượng mẫu bằng cách tạo các biến thể của dữ liệu hiện có.\n",
    "* **Phương pháp:**\n",
    "  * Xoay, lật ảnh\n",
    "  * Thay đổi độ sáng, độ tương phản\n",
    "  * Thêm nhiễu\n",
    "* **Ưu điểm:** Cải thiện khả năng tổng quát hóa của mô hình.\n",
    "* **Nhược điểm:** Không phù hợp với mọi loại dữ liệu.\n",
    "\n",
    "### Resample with Different Ratios\n",
    "\n",
    "* **Mục tiêu:** Điều chỉnh tỷ lệ giữa các lớp trong tập dữ liệu.\n",
    "* **Phương pháp:**\n",
    "  * **Oversampling:** Tăng số lượng mẫu trong lớp thiểu số.\n",
    "  * **Undersampling:** Giảm số lượng mẫu trong lớp đa số.\n",
    "  * **Kết hợp:** Vừa tăng, vừa giảm số lượng mẫu.\n",
    "* **Ưu điểm:** Linh hoạt trong việc điều chỉnh tỷ lệ.\n",
    "* **Nhược điểm:** Cần chọn tỷ lệ phù hợp để tránh mất thông tin."
   ]
  },
  {
   "cell_type": "code",
   "execution_count": 1,
   "metadata": {},
   "outputs": [
    {
     "name": "stdout",
     "output_type": "stream",
     "text": [
      "Data oversampled successfully in folder: E:\\NCKH\\dataOversampling\n"
     ]
    }
   ],
   "source": [
    "import os\n",
    "import shutil\n",
    "import random\n",
    "\n",
    "# Đường dẫn đến thư mục dữ liệu gốc\n",
    "folder_path = r'E:\\NCKH\\dataset\\train'\n",
    "output_folder = r'E:\\NCKH\\dataOversampling'\n",
    "def Oversampling(folder_path, output_folder):\n",
    "    # Tạo thư mục data1 nếu chưa có\n",
    "    if not os.path.exists(output_folder):\n",
    "        os.makedirs(output_folder)\n",
    "\n",
    "    # Hàm đếm số lượng ảnh trong thư mục\n",
    "    def count_images_in_folder(folder):\n",
    "        return len([f for f in os.listdir(folder) if os.path.isfile(os.path.join(folder, f))])\n",
    "\n",
    "    # Lấy số lượng ảnh của tất cả các thư mục con\n",
    "    class_counts = {}\n",
    "    for subfolder in os.listdir(folder_path):\n",
    "        subfolder_path = os.path.join(folder_path, subfolder)\n",
    "        if os.path.isdir(subfolder_path):\n",
    "            class_counts[subfolder] = count_images_in_folder(subfolder_path)\n",
    "\n",
    "    # Tìm lớp có nhiều ảnh nhất\n",
    "    max_count = max(class_counts.values())\n",
    "\n",
    "    # Thực hiện oversampling cho các lớp có số lượng ảnh ít hơn\n",
    "    for subfolder, count in class_counts.items():\n",
    "        subfolder_path = os.path.join(folder_path, subfolder)\n",
    "        output_subfolder_path = os.path.join(output_folder, subfolder)\n",
    "\n",
    "        # Tạo thư mục tương ứng trong thư mục output\n",
    "        if not os.path.exists(output_subfolder_path):\n",
    "            os.makedirs(output_subfolder_path)\n",
    "\n",
    "        # Sao chép tất cả các ảnh gốc sang thư mục mới\n",
    "        for filename in os.listdir(subfolder_path):\n",
    "            file_path = os.path.join(subfolder_path, filename)\n",
    "            if os.path.isfile(file_path):\n",
    "                shutil.copy(file_path, os.path.join(output_subfolder_path, filename))\n",
    "\n",
    "        # Nếu số lượng ảnh ít hơn max_count, ta sẽ sao chép ngẫu nhiên các ảnh để đạt max_count\n",
    "        if count < max_count:\n",
    "            all_files = [f for f in os.listdir(output_subfolder_path) if os.path.isfile(os.path.join(output_subfolder_path, f))]\n",
    "            while len(all_files) < max_count:\n",
    "                file_to_copy = random.choice(all_files)\n",
    "                new_file_name = f\"copy_{len(all_files)}_\" + file_to_copy\n",
    "                shutil.copy(os.path.join(output_subfolder_path, file_to_copy), os.path.join(output_subfolder_path, new_file_name))\n",
    "                all_files = [f for f in os.listdir(output_subfolder_path) if os.path.isfile(os.path.join(output_subfolder_path, f))]\n",
    "                             \n",
    "                             \n",
    "Oversampling(folder_path, output_folder)\n",
    "print(f\"Data oversampled successfully in folder: {output_folder}\")\n"
   ]
  },
  {
   "cell_type": "code",
   "execution_count": 10,
   "metadata": {},
   "outputs": [
    {
     "data": {
      "text/plain": [
       "{'normal': 2727,\n",
       " 'oa_doubtful': 2727,\n",
       " 'oa_mild': 2727,\n",
       " 'oa_moderate': 2727,\n",
       " 'oa_severe': 2727,\n",
       " 'osteopenia': 2727,\n",
       " 'osteoporosis': 2727}"
      ]
     },
     "execution_count": 10,
     "metadata": {},
     "output_type": "execute_result"
    }
   ],
   "source": [
    "from functions import count_images_in_subfolders\n",
    "\n",
    "df = count_images_in_subfolders(output_folder) # 19089 \n",
    "df"
   ]
  },
  {
   "cell_type": "code",
   "execution_count": 12,
   "metadata": {},
   "outputs": [
    {
     "data": {
      "text/plain": [
       "19089"
      ]
     },
     "execution_count": 12,
     "metadata": {},
     "output_type": "execute_result"
    }
   ],
   "source": [
    "total = sum(df.values())\n",
    "total"
   ]
  },
  {
   "cell_type": "markdown",
   "metadata": {},
   "source": [
    "| Folder        | normal | oa_doubtful | oa_mild | oa_moderate | oa_severe | osteopenia | osteoporosis | Sum   |\n",
    "|---------------|--------|-------------|---------|-------------|-----------|------------|---------------|-------|\n",
    "| dataset       | 2727   | 1428        | 1702    | 934         | 338       | 124        | 40            | 7293  |\n",
    "| data1         | 2727   | 2727        | 2727    | 2727        | 2727      | 2727       | 2727          | 19089 |\n"
   ]
  },
  {
   "cell_type": "markdown",
   "metadata": {},
   "source": [
    "## data agumentation"
   ]
  },
  {
   "cell_type": "code",
   "execution_count": 1,
   "metadata": {},
   "outputs": [
    {
     "name": "stdout",
     "output_type": "stream",
     "text": [
      "Data augmentation hoàn tất!\n"
     ]
    }
   ],
   "source": [
    "import os\n",
    "import random\n",
    "from PIL import Image, ImageEnhance\n",
    "import shutil\n",
    "\n",
    "# Đường dẫn đến thư mục gốc chứa dữ liệu\n",
    "folder_path = r'E:\\NCKH\\dataset\\train'\n",
    "# Thư mục để lưu ảnh đã tăng cường\n",
    "output_folder = r'E:\\NCKH\\dataAugmentation'\n",
    "\n",
    "# Các định dạng file ảnh cần xử lý\n",
    "image_extensions = ('.jpg', '.jpeg', '.png', '.bmp', '.tiff')\n",
    "\n",
    "# Ngưỡng cho việc tăng cường mẫu\n",
    "threshold = 1500\n",
    "\n",
    "# Hàm thực hiện augmentation cho một ảnh\n",
    "def augment_image(image):\n",
    "    # Xoay ảnh ngẫu nhiên từ 0 đến 360 độ\n",
    "    angle = random.randint(0, 360)\n",
    "    image = image.rotate(angle)\n",
    "    \n",
    "    # Thay đổi độ sáng ngẫu nhiên\n",
    "    enhancer = ImageEnhance.Brightness(image)\n",
    "    brightness_factor = random.uniform(0.5, 1.5)  # Giới hạn độ sáng\n",
    "    image = enhancer.enhance(brightness_factor)\n",
    "    \n",
    "    # Lật ảnh ngẫu nhiên theo chiều ngang\n",
    "    if random.choice([True, False]):\n",
    "        image = image.transpose(Image.FLIP_LEFT_RIGHT)\n",
    "    \n",
    "    return image\n",
    "\n",
    "def dataAugmentation(folder_path, output_folder):\n",
    "    # Tạo thư mục output nếu chưa tồn tại\n",
    "    if not os.path.exists(output_folder):\n",
    "        os.makedirs(output_folder)\n",
    "\n",
    "    # Duyệt qua các thư mục con trong thư mục gốc\n",
    "    for subfolder in os.listdir(folder_path):\n",
    "        subfolder_path = os.path.join(folder_path, subfolder)\n",
    "        \n",
    "        if os.path.isdir(subfolder_path):\n",
    "            # Đếm số lượng ảnh trong thư mục con\n",
    "            image_count = len([f for f in os.listdir(subfolder_path) if f.lower().endswith(image_extensions)])\n",
    "            \n",
    "            # Tạo thư mục con tương ứng trong thư mục output\n",
    "            output_subfolder = os.path.join(output_folder, subfolder)\n",
    "            os.makedirs(output_subfolder, exist_ok=True)\n",
    "\n",
    "            # Kiểm tra số lượng ảnh với ngưỡng\n",
    "            if image_count < threshold:\n",
    "                # Tính số lượng ảnh cần tăng cường\n",
    "                num_to_augment = threshold - image_count\n",
    "                \n",
    "                # Sao chép tất cả ảnh gốc vào thư mục output\n",
    "                for filename in os.listdir(subfolder_path):\n",
    "                    if filename.lower().endswith(image_extensions):\n",
    "                        img_path = os.path.join(subfolder_path, filename)\n",
    "                        shutil.copy(img_path, output_subfolder)  # Sao chép ảnh gốc vào thư mục mới\n",
    "                \n",
    "                # Tạo ảnh tăng cường cho đến khi đạt ngưỡng\n",
    "                augmented_count = 0  # Số lượng ảnh đã tăng cường\n",
    "                while augmented_count < num_to_augment:\n",
    "                    for filename in os.listdir(output_subfolder):\n",
    "                        if augmented_count >= num_to_augment:\n",
    "                            break  # Dừng lại nếu đã đủ số lượng ảnh cần tăng cường\n",
    "                        \n",
    "                        if filename.lower().endswith(image_extensions):\n",
    "                            # Đọc ảnh đã sao chép\n",
    "                            img_path = os.path.join(output_subfolder, filename)\n",
    "                            image = Image.open(img_path)\n",
    "\n",
    "                            # Tăng cường ảnh\n",
    "                            augmented_image = augment_image(image)\n",
    "                            augmented_image.save(os.path.join(output_subfolder, f'augmented_{filename}_{augmented_count}.png'))\n",
    "                            augmented_count += 1  # Tăng số lượng ảnh đã tăng cường\n",
    "\n",
    "            else:\n",
    "                # Nếu số lượng ảnh lớn hơn ngưỡng, chỉ cần sao chép\n",
    "                for filename in os.listdir(subfolder_path):\n",
    "                    if filename.lower().endswith(image_extensions):\n",
    "                        img_path = os.path.join(subfolder_path, filename)\n",
    "                        shutil.copy(img_path, output_subfolder)  # Sao chép ảnh gốc vào thư mục mới\n",
    "\n",
    "    print(\"Data augmentation hoàn tất!\")\n",
    "\n",
    "# Gọi hàm thực hiện tăng cường dữ liệu\n",
    "dataAugmentation(folder_path, output_folder)\n"
   ]
  },
  {
   "cell_type": "code",
   "execution_count": 2,
   "metadata": {},
   "outputs": [
    {
     "data": {
      "text/plain": [
       "{'normal': 2727,\n",
       " 'oa_doubtful': 1500,\n",
       " 'oa_mild': 1702,\n",
       " 'oa_moderate': 1500,\n",
       " 'oa_severe': 1500,\n",
       " 'osteopenia': 1500,\n",
       " 'osteoporosis': 1500}"
      ]
     },
     "execution_count": 2,
     "metadata": {},
     "output_type": "execute_result"
    }
   ],
   "source": [
    "from functions import count_images_in_subfolders\n",
    "output_folder = r'E:\\NCKH\\dataAugmentation'\n",
    "df_1 = count_images_in_subfolders(output_folder) # 19089 \n",
    "df_1"
   ]
  },
  {
   "cell_type": "markdown",
   "metadata": {},
   "source": [
    "| Folder            | normal | oa_doubtful | oa_mild | oa_moderate | oa_severe | osteopenia | osteoporosis | Sum   | Size|\n",
    "|-------------------|--------|-------------|---------|-------------|-----------|------------|---------------|-------|--------|\n",
    "| datasetOriginal           | 2727   | 1428        | 1702    | 934         | 338       | 124        | 40            | 7293  | 400Mb|\n",
    "| dataOversampling             | 2727   | 2727        | 2727    | 2727        | 2727      | 2727       | 2727          | 19089 | 5GB|\n",
    "| dataAugmentation  | 2727   | 1500        | 1702    | 1500        | 1500      | 1500       | 1500          | 11929 | 4.3GB|\n"
   ]
  }
 ],
 "metadata": {
  "kernelspec": {
   "display_name": "Python 3",
   "language": "python",
   "name": "python3"
  },
  "language_info": {
   "codemirror_mode": {
    "name": "ipython",
    "version": 3
   },
   "file_extension": ".py",
   "mimetype": "text/x-python",
   "name": "python",
   "nbconvert_exporter": "python",
   "pygments_lexer": "ipython3",
   "version": "3.11.9"
  }
 },
 "nbformat": 4,
 "nbformat_minor": 2
}
